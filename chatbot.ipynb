{
 "cells": [
  {
   "cell_type": "code",
   "execution_count": 1,
   "metadata": {},
   "outputs": [
    {
     "name": "stdout",
     "output_type": "stream",
     "text": [
      "Data successfully scraped and stored at scrapped_data\\knovatekinc.com_text.json \n",
      "\n",
      "\n"
     ]
    },
    {
     "name": "stderr",
     "output_type": "stream",
     "text": [
      "Number of requested results 4 is greater than number of elements in index 1, updating n_results = 1\n"
     ]
    },
    {
     "name": "stdout",
     "output_type": "stream",
     "text": [
      "Answer :  The company Knovatek Inc. has two office locations. One office is located at 166 Geary St STE 1500 Suite #251, San Francisco, California 94108, United States. The other office is located at 1275 Finch Ave W, Unit-811, North York, ON M3J2G5, Canada.\n",
      "\n"
     ]
    }
   ],
   "source": [
    "# Required Libraries\n",
    "import requests\n",
    "import re\n",
    "import json\n",
    "from bs4 import BeautifulSoup\n",
    "from urllib.parse import urlparse\n",
    "from langchain.embeddings.sentence_transformer import SentenceTransformerEmbeddings\n",
    "from langchain.text_splitter import CharacterTextSplitter\n",
    "from langchain_community.vectorstores import Chroma\n",
    "from langchain.prompts import PromptTemplate\n",
    "from langchain.chains import RetrievalQA\n",
    "from langchain_community.llms import OpenAI\n",
    "from langchain_community.document_loaders import TextLoader\n",
    "\n",
    "import warnings\n",
    "warnings.filterwarnings(\"ignore\") \n",
    "\n",
    "# Function to validate and modify URL\n",
    "def validate_and_modify_url(url):\n",
    "    if not url.startswith(\"https://\"):\n",
    "        if url.startswith(\"www.\"):\n",
    "            url = \"https://\" + url\n",
    "        else: url\n",
    "    return url\n",
    "# Get URL from the user\n",
    "user_url = input(\"Enter the URL of the webpage: \")\n",
    "\n",
    "# Validate and modify URL\n",
    "user_url = validate_and_modify_url(user_url)\n",
    "\n",
    "# Agent 1: Data Scraping and Storage Agent \n",
    "response = requests.get(user_url)\n",
    "raw_content = BeautifulSoup(response.content, 'html.parser').text\n",
    "\n",
    "# Extract the domain name from the URL\n",
    "url = response.url\n",
    "domain = urlparse(url).netloc\n",
    "\n",
    "# Define the file name using the domain name\n",
    "store_agent_path =\"scrapped_data\\\\\"+ f\"{domain}_text.json\"\n",
    "\n",
    "with open(store_agent_path, 'w') as file:\n",
    "    json.dump({ 'content': raw_content }, file, indent=4)\n",
    "\n",
    "print(f\"Data successfully scraped and stored at {store_agent_path} \" )\n",
    "print()\n",
    " \n",
    "# Agent 2: Query Answering Agent\n",
    "loader = TextLoader(file_path=store_agent_path, encoding=\"utf-8\")\n",
    "data = loader.load()\n",
    "char_text_splitter = CharacterTextSplitter(chunk_size=1000, chunk_overlap=0)\n",
    "splits = char_text_splitter.split_documents(data)\n",
    "\n",
    "# create the open-source embedding function\n",
    "embedding_function = SentenceTransformerEmbeddings(model_name=\"all-MiniLM-L6-v2\")\n",
    "persist_directory = 'DB/chromadb'\n",
    "vector_db = Chroma.from_documents(documents = splits, embedding = embedding_function, persist_directory = persist_directory)\n",
    "vector_db.persist()\n",
    "\n",
    "# Load OpenAI\n",
    "llm = OpenAI(api_key = \"YOUR API KEY\", temperature=0.7, model_name=\"gpt-3.5-turbo\",  )\n",
    "\n",
    "QA_CHAIN_PROMPT = PromptTemplate(input_variables=[\"context\", \"question\"], template=\"\"\"From given list of documents {context} answer the question.You can also use chat history.Construct answer based on the following rules:1. return answer only from the documents. 2. If you don't know the answer, just say that you don't know, don't try to make up an answer. 3. answer the question in  procedural way.{question}\"\"\")\n",
    "\n",
    "# Run chain\n",
    "qna_chain = RetrievalQA.from_chain_type(llm, retriever=vector_db.as_retriever(),\n",
    "                                        return_source_documents=True,\n",
    "                                        chain_type_kwargs={\"prompt\": QA_CHAIN_PROMPT})\n",
    "\n",
    "# Interact with User\n",
    "while True:  \n",
    "    question = input(\"Enter the Question \\n\") \n",
    "    print()  \n",
    "    result = qna_chain({\"query\": question})  \n",
    "    print(\"Answer : \", result[\"result\"])  \n",
    "    print()"
   ]
  }
 ],
 "metadata": {
  "kernelspec": {
   "display_name": "venv",
   "language": "python",
   "name": "python3"
  },
  "language_info": {
   "codemirror_mode": {
    "name": "ipython",
    "version": 3
   },
   "file_extension": ".py",
   "mimetype": "text/x-python",
   "name": "python",
   "nbconvert_exporter": "python",
   "pygments_lexer": "ipython3",
   "version": "3.11.5"
  }
 },
 "nbformat": 4,
 "nbformat_minor": 2
}
